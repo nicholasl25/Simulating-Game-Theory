{
 "cells": [
  {
   "cell_type": "code",
   "execution_count": null,
   "id": "5a074384",
   "metadata": {},
   "outputs": [],
   "source": [
    "#here we define our player, game, and match classes to be used throughout this project"
   ]
  },
  {
   "cell_type": "code",
   "execution_count": 22,
   "id": "605303ac",
   "metadata": {},
   "outputs": [],
   "source": [
    "class Player:\n",
    "    def __init__(self, name, strategy, score = 0):\n",
    "        self.name = name\n",
    "        self.strategy = strategy\n",
    "        self.score = score\n",
    "        \n",
    "\n",
    "class Game:\n",
    "    \n",
    "    def __init__(self, name, payoffs1, payoffs2):\n",
    "        self.name = name\n",
    "        self.payoffs1 = payoffs1\n",
    "        self.payoffs2 = payoffs2\n",
    "        \n",
    "        \n",
    "def Match(game, player1, player2):\n",
    "    #Takes in two players and a game and outputs the scores of the game\n",
    "    #after 100 rounds\n",
    "    moves1 = []\n",
    "    moves2 = []\n",
    "    for i in range(100):\n",
    "        moves1.append(player1.strategy(moves1, moves2))\n",
    "        moves2.append(player2.strategy(moves1, moves2))\n",
    "    for i in range(100):\n",
    "        player1.score += game.payoffs1[moves1[i]][moves2[i]]\n",
    "        player2.score += game.payoffs2[moves1[i]][moves2[i]]\n",
    "    P1 = player1.score\n",
    "    P2 = player2.score\n",
    "    player1.score = 0\n",
    "    player2.score = 0\n",
    "    return P1, P2"
   ]
  },
  {
   "cell_type": "code",
   "execution_count": null,
   "id": "9ca3012d",
   "metadata": {},
   "outputs": [],
   "source": [
    "#Create instances of players and games to test our match function"
   ]
  },
  {
   "cell_type": "code",
   "execution_count": 24,
   "id": "9ec1bef4",
   "metadata": {},
   "outputs": [
    {
     "name": "stdout",
     "output_type": "stream",
     "text": [
      "(200, 100)\n"
     ]
    }
   ],
   "source": [
    "def srat1(n1 , n2):\n",
    "    return 0\n",
    "\n",
    "def srat2(n1, n2):\n",
    "    return 0\n",
    "\n",
    "X = Player(\"One\", srat1)\n",
    "Y = Player(\"Two\", srat2)\n",
    "G = Game(\"Game\", [[2, 1], \n",
    "                  [1, 2]], \n",
    "         \n",
    "                 [[1, 3], \n",
    "                  [3, 1]])\n",
    "\n",
    "print(Match(G, X, Y))"
   ]
  },
  {
   "cell_type": "code",
   "execution_count": null,
   "id": "76ac4660",
   "metadata": {},
   "outputs": [],
   "source": []
  }
 ],
 "metadata": {
  "kernelspec": {
   "display_name": "Python 3 (ipykernel)",
   "language": "python",
   "name": "python3"
  },
  "language_info": {
   "codemirror_mode": {
    "name": "ipython",
    "version": 3
   },
   "file_extension": ".py",
   "mimetype": "text/x-python",
   "name": "python",
   "nbconvert_exporter": "python",
   "pygments_lexer": "ipython3",
   "version": "3.9.12"
  }
 },
 "nbformat": 4,
 "nbformat_minor": 5
}
